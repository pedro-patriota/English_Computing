{
  "cells": [
    {
      "cell_type": "code",
      "execution_count": null,
      "metadata": {
        "id": "LdEG7x1NREdD"
      },
      "outputs": [],
      "source": [
        "#!pip install voila\n",
        "#!jupyter serverextension enable --sys-prefix voila \n",
        "\n",
        "# https://mybinder.org/v2/gh/pedro-patriota/English_Computing/HEAD?urlpath=%2Fvoila%2Frender%2FUntitled0%20(1).ipynb"
      ]
    },
    {
      "cell_type": "code",
      "execution_count": null,
      "metadata": {
        "id": "Me4QnzJaRtU8"
      },
      "outputs": [],
      "source": [
        "from fastai.vision.all import *\n",
        "from fastai.vision.widgets import *"
      ]
    },
    {
      "cell_type": "code",
      "execution_count": null,
      "metadata": {
        "id": "YvnS-vgFSqBH"
      },
      "outputs": [],
      "source": [
        "path = Path()\n",
        "path.ls(file_exts='.pkl')\n",
        "learn_inf = load_learner(path/'export.pkl') # Testing if the exporting worked"
      ]
    },
    {
      "cell_type": "code",
      "execution_count": null,
      "metadata": {
        "id": "821BXz07SSQe"
      },
      "outputs": [],
      "source": [
        "btn_run = widgets.Button(description='Classify')# Defining button\n"
      ]
    },
    {
      "cell_type": "code",
      "execution_count": null,
      "metadata": {
        "id": "HgTQVNyLSaEm"
      },
      "outputs": [],
      "source": [
        "# Creation of the classifier function\n",
        "def on_click_classify(change):\n",
        "    img = PILImage.create(btn_upload.data[-1])\n",
        "    out_pl.clear_output()\n",
        "    with out_pl: display(img.to_thumb(128,128)) # Resizing it \n",
        "    pred,pred_idx,probs = learn_inf.predict(img)\n",
        "    lbl_pred.value = f'Prediction: {pred}; Probability: {probs[pred_idx]:.04f}'\n",
        "\n",
        "btn_run.on_click(on_click_classify)"
      ]
    },
    {
      "cell_type": "code",
      "execution_count": null,
      "metadata": {
        "id": "dSx5rmqjScJ-"
      },
      "outputs": [],
      "source": [
        "# Creation of the widgets\n",
        "btn_upload = widgets.FileUpload()\n",
        "out_pl = widgets.Output()\n",
        "lbl_pred = widgets.Label()\n"
      ]
    },
    {
      "cell_type": "code",
      "execution_count": null,
      "metadata": {
        "colab": {
          "base_uri": "https://localhost:8080/",
          "height": 230,
          "referenced_widgets": [
            "9c2b77dedc5d4f8da0951b367cc33d8e",
            "49a153b3e0954ca1b7b49d493ad5ad0b",
            "27c60513957f420d89cd5cac7cba5b85",
            "de4dc09f7e4b4fe4935a725e757fc942",
            "80045bbb39844215bdc0826b2961a8ac",
            "a77617c1b10e45a992cf3f42b126420b",
            "7bd85590bec64488876953acdb6104ae",
            "10dd3b59d350455b89da057028b9049b",
            "3ef58159113f4f76987e29f9219b885f",
            "b2154085d356410fa238834d839ef8ce",
            "84f18769b0014b4ba4cd68894bf2bfa7",
            "86fe6a784d184357a0c4574eb5a18a97",
            "a55fabd9cd794808a16223c1440ce470",
            "80683e83cdb24b52a192396ac8b8c24f",
            "24254ed7a70a41ec9284da9ac58d533e",
            "c5ec30e43dfe47e685d7d70eddaa176e"
          ]
        },
        "id": "y_MDRXRPScy-",
        "outputId": "f7b0dde3-ee72-49f6-fdde-6db206d81b20"
      },
      "outputs": [],
      "source": [
        "# Making the test widget\n",
        "display(VBox([widgets.Label('Select a cheese'), \n",
        "      btn_upload, btn_run, out_pl, lbl_pred]))"
      ]
    }
  ],
  "metadata": {
    "colab": {
      "collapsed_sections": [],
      "provenance": []
    },
    "kernelspec": {
      "display_name": "Python 3.10.4 64-bit",
      "language": "python",
      "name": "python3"
    },
    "language_info": {
      "codemirror_mode": {
        "name": "ipython",
        "version": 3
      },
      "file_extension": ".py",
      "mimetype": "text/x-python",
      "name": "python",
      "nbconvert_exporter": "python",
      "pygments_lexer": "ipython3",
      "version": "3.10.4"
    },
    "vscode": {
      "interpreter": {
        "hash": "369f2c481f4da34e4445cda3fffd2e751bd1c4d706f27375911949ba6bb62e1c"
      }
    },
    "widgets": {
      "application/vnd.jupyter.widget-state+json": {
        "10dd3b59d350455b89da057028b9049b": {
          "model_module": "@jupyter-widgets/base",
          "model_module_version": "1.2.0",
          "model_name": "LayoutModel",
          "state": {
            "_model_module": "@jupyter-widgets/base",
            "_model_module_version": "1.2.0",
            "_model_name": "LayoutModel",
            "_view_count": null,
            "_view_module": "@jupyter-widgets/base",
            "_view_module_version": "1.2.0",
            "_view_name": "LayoutView",
            "align_content": null,
            "align_items": null,
            "align_self": null,
            "border": null,
            "bottom": null,
            "display": null,
            "flex": null,
            "flex_flow": null,
            "grid_area": null,
            "grid_auto_columns": null,
            "grid_auto_flow": null,
            "grid_auto_rows": null,
            "grid_column": null,
            "grid_gap": null,
            "grid_row": null,
            "grid_template_areas": null,
            "grid_template_columns": null,
            "grid_template_rows": null,
            "height": null,
            "justify_content": null,
            "justify_items": null,
            "left": null,
            "margin": null,
            "max_height": null,
            "max_width": null,
            "min_height": null,
            "min_width": null,
            "object_fit": null,
            "object_position": null,
            "order": null,
            "overflow": null,
            "overflow_x": null,
            "overflow_y": null,
            "padding": null,
            "right": null,
            "top": null,
            "visibility": null,
            "width": null
          }
        },
        "24254ed7a70a41ec9284da9ac58d533e": {
          "model_module": "@jupyter-widgets/controls",
          "model_module_version": "1.5.0",
          "model_name": "DescriptionStyleModel",
          "state": {
            "_model_module": "@jupyter-widgets/controls",
            "_model_module_version": "1.5.0",
            "_model_name": "DescriptionStyleModel",
            "_view_count": null,
            "_view_module": "@jupyter-widgets/base",
            "_view_module_version": "1.2.0",
            "_view_name": "StyleView",
            "description_width": ""
          }
        },
        "27c60513957f420d89cd5cac7cba5b85": {
          "model_module": "@jupyter-widgets/controls",
          "model_module_version": "1.5.0",
          "model_name": "FileUploadModel",
          "state": {
            "_counter": 1,
            "_dom_classes": [],
            "_model_module": "@jupyter-widgets/controls",
            "_model_module_version": "1.5.0",
            "_model_name": "FileUploadModel",
            "_view_count": null,
            "_view_module": "@jupyter-widgets/controls",
            "_view_module_version": "1.5.0",
            "_view_name": "FileUploadView",
            "accept": "",
            "button_style": "",
            "data": [
              null
            ],
            "description": "Upload",
            "description_tooltip": null,
            "disabled": false,
            "error": "",
            "icon": "upload",
            "layout": "IPY_MODEL_b2154085d356410fa238834d839ef8ce",
            "metadata": [
              {
                "lastModified": 1665163588029,
                "name": "images (3).jpg",
                "size": 9383,
                "type": "image/jpeg"
              }
            ],
            "multiple": false,
            "style": "IPY_MODEL_84f18769b0014b4ba4cd68894bf2bfa7"
          }
        },
        "3ef58159113f4f76987e29f9219b885f": {
          "model_module": "@jupyter-widgets/controls",
          "model_module_version": "1.5.0",
          "model_name": "DescriptionStyleModel",
          "state": {
            "_model_module": "@jupyter-widgets/controls",
            "_model_module_version": "1.5.0",
            "_model_name": "DescriptionStyleModel",
            "_view_count": null,
            "_view_module": "@jupyter-widgets/base",
            "_view_module_version": "1.2.0",
            "_view_name": "StyleView",
            "description_width": ""
          }
        },
        "49a153b3e0954ca1b7b49d493ad5ad0b": {
          "model_module": "@jupyter-widgets/controls",
          "model_module_version": "1.5.0",
          "model_name": "LabelModel",
          "state": {
            "_dom_classes": [],
            "_model_module": "@jupyter-widgets/controls",
            "_model_module_version": "1.5.0",
            "_model_name": "LabelModel",
            "_view_count": null,
            "_view_module": "@jupyter-widgets/controls",
            "_view_module_version": "1.5.0",
            "_view_name": "LabelView",
            "description": "",
            "description_tooltip": null,
            "layout": "IPY_MODEL_10dd3b59d350455b89da057028b9049b",
            "placeholder": "​",
            "style": "IPY_MODEL_3ef58159113f4f76987e29f9219b885f",
            "value": "Select a cheese"
          }
        },
        "7bd85590bec64488876953acdb6104ae": {
          "model_module": "@jupyter-widgets/base",
          "model_module_version": "1.2.0",
          "model_name": "LayoutModel",
          "state": {
            "_model_module": "@jupyter-widgets/base",
            "_model_module_version": "1.2.0",
            "_model_name": "LayoutModel",
            "_view_count": null,
            "_view_module": "@jupyter-widgets/base",
            "_view_module_version": "1.2.0",
            "_view_name": "LayoutView",
            "align_content": null,
            "align_items": null,
            "align_self": null,
            "border": null,
            "bottom": null,
            "display": null,
            "flex": null,
            "flex_flow": null,
            "grid_area": null,
            "grid_auto_columns": null,
            "grid_auto_flow": null,
            "grid_auto_rows": null,
            "grid_column": null,
            "grid_gap": null,
            "grid_row": null,
            "grid_template_areas": null,
            "grid_template_columns": null,
            "grid_template_rows": null,
            "height": null,
            "justify_content": null,
            "justify_items": null,
            "left": null,
            "margin": null,
            "max_height": null,
            "max_width": null,
            "min_height": null,
            "min_width": null,
            "object_fit": null,
            "object_position": null,
            "order": null,
            "overflow": null,
            "overflow_x": null,
            "overflow_y": null,
            "padding": null,
            "right": null,
            "top": null,
            "visibility": null,
            "width": null
          }
        },
        "80045bbb39844215bdc0826b2961a8ac": {
          "model_module": "@jupyter-widgets/output",
          "model_module_version": "1.0.0",
          "model_name": "OutputModel",
          "state": {
            "_dom_classes": [],
            "_model_module": "@jupyter-widgets/output",
            "_model_module_version": "1.0.0",
            "_model_name": "OutputModel",
            "_view_count": null,
            "_view_module": "@jupyter-widgets/output",
            "_view_module_version": "1.0.0",
            "_view_name": "OutputView",
            "layout": "IPY_MODEL_c5ec30e43dfe47e685d7d70eddaa176e",
            "msg_id": "",
            "outputs": [
              {
                "data": {
                  "image/png": "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\n",
                  "text/plain": "<PIL.Image.Image image mode=RGB size=128x85>"
                },
                "metadata": {},
                "output_type": "display_data"
              }
            ]
          }
        },
        "80683e83cdb24b52a192396ac8b8c24f": {
          "model_module": "@jupyter-widgets/base",
          "model_module_version": "1.2.0",
          "model_name": "LayoutModel",
          "state": {
            "_model_module": "@jupyter-widgets/base",
            "_model_module_version": "1.2.0",
            "_model_name": "LayoutModel",
            "_view_count": null,
            "_view_module": "@jupyter-widgets/base",
            "_view_module_version": "1.2.0",
            "_view_name": "LayoutView",
            "align_content": null,
            "align_items": null,
            "align_self": null,
            "border": null,
            "bottom": null,
            "display": null,
            "flex": null,
            "flex_flow": null,
            "grid_area": null,
            "grid_auto_columns": null,
            "grid_auto_flow": null,
            "grid_auto_rows": null,
            "grid_column": null,
            "grid_gap": null,
            "grid_row": null,
            "grid_template_areas": null,
            "grid_template_columns": null,
            "grid_template_rows": null,
            "height": null,
            "justify_content": null,
            "justify_items": null,
            "left": null,
            "margin": null,
            "max_height": null,
            "max_width": null,
            "min_height": null,
            "min_width": null,
            "object_fit": null,
            "object_position": null,
            "order": null,
            "overflow": null,
            "overflow_x": null,
            "overflow_y": null,
            "padding": null,
            "right": null,
            "top": null,
            "visibility": null,
            "width": null
          }
        },
        "84f18769b0014b4ba4cd68894bf2bfa7": {
          "model_module": "@jupyter-widgets/controls",
          "model_module_version": "1.5.0",
          "model_name": "ButtonStyleModel",
          "state": {
            "_model_module": "@jupyter-widgets/controls",
            "_model_module_version": "1.5.0",
            "_model_name": "ButtonStyleModel",
            "_view_count": null,
            "_view_module": "@jupyter-widgets/base",
            "_view_module_version": "1.2.0",
            "_view_name": "StyleView",
            "button_color": null,
            "font_weight": ""
          }
        },
        "86fe6a784d184357a0c4574eb5a18a97": {
          "model_module": "@jupyter-widgets/base",
          "model_module_version": "1.2.0",
          "model_name": "LayoutModel",
          "state": {
            "_model_module": "@jupyter-widgets/base",
            "_model_module_version": "1.2.0",
            "_model_name": "LayoutModel",
            "_view_count": null,
            "_view_module": "@jupyter-widgets/base",
            "_view_module_version": "1.2.0",
            "_view_name": "LayoutView",
            "align_content": null,
            "align_items": null,
            "align_self": null,
            "border": null,
            "bottom": null,
            "display": null,
            "flex": null,
            "flex_flow": null,
            "grid_area": null,
            "grid_auto_columns": null,
            "grid_auto_flow": null,
            "grid_auto_rows": null,
            "grid_column": null,
            "grid_gap": null,
            "grid_row": null,
            "grid_template_areas": null,
            "grid_template_columns": null,
            "grid_template_rows": null,
            "height": null,
            "justify_content": null,
            "justify_items": null,
            "left": null,
            "margin": null,
            "max_height": null,
            "max_width": null,
            "min_height": null,
            "min_width": null,
            "object_fit": null,
            "object_position": null,
            "order": null,
            "overflow": null,
            "overflow_x": null,
            "overflow_y": null,
            "padding": null,
            "right": null,
            "top": null,
            "visibility": null,
            "width": null
          }
        },
        "9c2b77dedc5d4f8da0951b367cc33d8e": {
          "model_module": "@jupyter-widgets/controls",
          "model_module_version": "1.5.0",
          "model_name": "VBoxModel",
          "state": {
            "_dom_classes": [],
            "_model_module": "@jupyter-widgets/controls",
            "_model_module_version": "1.5.0",
            "_model_name": "VBoxModel",
            "_view_count": null,
            "_view_module": "@jupyter-widgets/controls",
            "_view_module_version": "1.5.0",
            "_view_name": "VBoxView",
            "box_style": "",
            "children": [
              "IPY_MODEL_49a153b3e0954ca1b7b49d493ad5ad0b",
              "IPY_MODEL_27c60513957f420d89cd5cac7cba5b85",
              "IPY_MODEL_de4dc09f7e4b4fe4935a725e757fc942",
              "IPY_MODEL_80045bbb39844215bdc0826b2961a8ac",
              "IPY_MODEL_a77617c1b10e45a992cf3f42b126420b"
            ],
            "layout": "IPY_MODEL_7bd85590bec64488876953acdb6104ae"
          }
        },
        "a55fabd9cd794808a16223c1440ce470": {
          "model_module": "@jupyter-widgets/controls",
          "model_module_version": "1.5.0",
          "model_name": "ButtonStyleModel",
          "state": {
            "_model_module": "@jupyter-widgets/controls",
            "_model_module_version": "1.5.0",
            "_model_name": "ButtonStyleModel",
            "_view_count": null,
            "_view_module": "@jupyter-widgets/base",
            "_view_module_version": "1.2.0",
            "_view_name": "StyleView",
            "button_color": null,
            "font_weight": ""
          }
        },
        "a77617c1b10e45a992cf3f42b126420b": {
          "model_module": "@jupyter-widgets/controls",
          "model_module_version": "1.5.0",
          "model_name": "LabelModel",
          "state": {
            "_dom_classes": [],
            "_model_module": "@jupyter-widgets/controls",
            "_model_module_version": "1.5.0",
            "_model_name": "LabelModel",
            "_view_count": null,
            "_view_module": "@jupyter-widgets/controls",
            "_view_module_version": "1.5.0",
            "_view_name": "LabelView",
            "description": "",
            "description_tooltip": null,
            "layout": "IPY_MODEL_80683e83cdb24b52a192396ac8b8c24f",
            "placeholder": "​",
            "style": "IPY_MODEL_24254ed7a70a41ec9284da9ac58d533e",
            "value": "Prediction: blue; Probability: 0.9998"
          }
        },
        "b2154085d356410fa238834d839ef8ce": {
          "model_module": "@jupyter-widgets/base",
          "model_module_version": "1.2.0",
          "model_name": "LayoutModel",
          "state": {
            "_model_module": "@jupyter-widgets/base",
            "_model_module_version": "1.2.0",
            "_model_name": "LayoutModel",
            "_view_count": null,
            "_view_module": "@jupyter-widgets/base",
            "_view_module_version": "1.2.0",
            "_view_name": "LayoutView",
            "align_content": null,
            "align_items": null,
            "align_self": null,
            "border": null,
            "bottom": null,
            "display": null,
            "flex": null,
            "flex_flow": null,
            "grid_area": null,
            "grid_auto_columns": null,
            "grid_auto_flow": null,
            "grid_auto_rows": null,
            "grid_column": null,
            "grid_gap": null,
            "grid_row": null,
            "grid_template_areas": null,
            "grid_template_columns": null,
            "grid_template_rows": null,
            "height": null,
            "justify_content": null,
            "justify_items": null,
            "left": null,
            "margin": null,
            "max_height": null,
            "max_width": null,
            "min_height": null,
            "min_width": null,
            "object_fit": null,
            "object_position": null,
            "order": null,
            "overflow": null,
            "overflow_x": null,
            "overflow_y": null,
            "padding": null,
            "right": null,
            "top": null,
            "visibility": null,
            "width": null
          }
        },
        "c5ec30e43dfe47e685d7d70eddaa176e": {
          "model_module": "@jupyter-widgets/base",
          "model_module_version": "1.2.0",
          "model_name": "LayoutModel",
          "state": {
            "_model_module": "@jupyter-widgets/base",
            "_model_module_version": "1.2.0",
            "_model_name": "LayoutModel",
            "_view_count": null,
            "_view_module": "@jupyter-widgets/base",
            "_view_module_version": "1.2.0",
            "_view_name": "LayoutView",
            "align_content": null,
            "align_items": null,
            "align_self": null,
            "border": null,
            "bottom": null,
            "display": null,
            "flex": null,
            "flex_flow": null,
            "grid_area": null,
            "grid_auto_columns": null,
            "grid_auto_flow": null,
            "grid_auto_rows": null,
            "grid_column": null,
            "grid_gap": null,
            "grid_row": null,
            "grid_template_areas": null,
            "grid_template_columns": null,
            "grid_template_rows": null,
            "height": null,
            "justify_content": null,
            "justify_items": null,
            "left": null,
            "margin": null,
            "max_height": null,
            "max_width": null,
            "min_height": null,
            "min_width": null,
            "object_fit": null,
            "object_position": null,
            "order": null,
            "overflow": null,
            "overflow_x": null,
            "overflow_y": null,
            "padding": null,
            "right": null,
            "top": null,
            "visibility": null,
            "width": null
          }
        },
        "de4dc09f7e4b4fe4935a725e757fc942": {
          "model_module": "@jupyter-widgets/controls",
          "model_module_version": "1.5.0",
          "model_name": "ButtonModel",
          "state": {
            "_dom_classes": [],
            "_model_module": "@jupyter-widgets/controls",
            "_model_module_version": "1.5.0",
            "_model_name": "ButtonModel",
            "_view_count": null,
            "_view_module": "@jupyter-widgets/controls",
            "_view_module_version": "1.5.0",
            "_view_name": "ButtonView",
            "button_style": "",
            "description": "Classify",
            "disabled": false,
            "icon": "",
            "layout": "IPY_MODEL_86fe6a784d184357a0c4574eb5a18a97",
            "style": "IPY_MODEL_a55fabd9cd794808a16223c1440ce470",
            "tooltip": ""
          }
        }
      }
    }
  },
  "nbformat": 4,
  "nbformat_minor": 0
}

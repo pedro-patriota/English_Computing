{
  "nbformat": 4,
  "nbformat_minor": 0,
  "metadata": {
    "colab": {
      "provenance": []
    },
    "kernelspec": {
      "name": "python3",
      "display_name": "Python 3"
    },
    "language_info": {
      "name": "python"
    },
    "widgets": {
      "application/vnd.jupyter.widget-state+json": {
        "bba038ff4e1f4a17a508087c73319789": {
          "model_module": "@jupyter-widgets/controls",
          "model_name": "VBoxModel",
          "model_module_version": "1.5.0",
          "state": {
            "_dom_classes": [],
            "_model_module": "@jupyter-widgets/controls",
            "_model_module_version": "1.5.0",
            "_model_name": "VBoxModel",
            "_view_count": null,
            "_view_module": "@jupyter-widgets/controls",
            "_view_module_version": "1.5.0",
            "_view_name": "VBoxView",
            "box_style": "",
            "children": [
              "IPY_MODEL_8fd2bafdd9d948ff9e1075e7cdf22bac",
              "IPY_MODEL_cfcc8eec27ae4b918c0227bc73658278",
              "IPY_MODEL_e4312d90b4e440208721f8f123a47664",
              "IPY_MODEL_51421d225e104f6da08a8e5c05a8e389",
              "IPY_MODEL_c0cd0e7565414c6e9b17a382ee148010"
            ],
            "layout": "IPY_MODEL_774388065f4247ec8cc8bcc189b252bd"
          }
        },
        "8fd2bafdd9d948ff9e1075e7cdf22bac": {
          "model_module": "@jupyter-widgets/controls",
          "model_name": "LabelModel",
          "model_module_version": "1.5.0",
          "state": {
            "_dom_classes": [],
            "_model_module": "@jupyter-widgets/controls",
            "_model_module_version": "1.5.0",
            "_model_name": "LabelModel",
            "_view_count": null,
            "_view_module": "@jupyter-widgets/controls",
            "_view_module_version": "1.5.0",
            "_view_name": "LabelView",
            "description": "",
            "description_tooltip": null,
            "layout": "IPY_MODEL_f707bba11cb94414a2ba78dee283e6b3",
            "placeholder": "​",
            "style": "IPY_MODEL_d111d6134c984678be9f57021f5eb7bc",
            "value": "Select a cheese"
          }
        },
        "cfcc8eec27ae4b918c0227bc73658278": {
          "model_module": "@jupyter-widgets/controls",
          "model_name": "FileUploadModel",
          "model_module_version": "1.5.0",
          "state": {
            "_counter": 1,
            "_dom_classes": [],
            "_model_module": "@jupyter-widgets/controls",
            "_model_module_version": "1.5.0",
            "_model_name": "FileUploadModel",
            "_view_count": null,
            "_view_module": "@jupyter-widgets/controls",
            "_view_module_version": "1.5.0",
            "_view_name": "FileUploadView",
            "accept": "",
            "button_style": "",
            "data": [
              null
            ],
            "description": "Upload",
            "description_tooltip": null,
            "disabled": false,
            "error": "",
            "icon": "upload",
            "layout": "IPY_MODEL_b44251fad63140dca735e25b6dae9f95",
            "metadata": [
              {
                "name": "parmesan_cheese.jpg",
                "type": "image/jpeg",
                "size": 5834,
                "lastModified": 1665165644746
              }
            ],
            "multiple": false,
            "style": "IPY_MODEL_952c69b4729642d4a9df077bdff21bbe"
          }
        },
        "e4312d90b4e440208721f8f123a47664": {
          "model_module": "@jupyter-widgets/controls",
          "model_name": "ButtonModel",
          "model_module_version": "1.5.0",
          "state": {
            "_dom_classes": [],
            "_model_module": "@jupyter-widgets/controls",
            "_model_module_version": "1.5.0",
            "_model_name": "ButtonModel",
            "_view_count": null,
            "_view_module": "@jupyter-widgets/controls",
            "_view_module_version": "1.5.0",
            "_view_name": "ButtonView",
            "button_style": "",
            "description": "Classify",
            "disabled": false,
            "icon": "",
            "layout": "IPY_MODEL_3fd207b8e9e24f8a8ad454859d886247",
            "style": "IPY_MODEL_e5645e1a27874a6eb258c57453a7bc5f",
            "tooltip": ""
          }
        },
        "51421d225e104f6da08a8e5c05a8e389": {
          "model_module": "@jupyter-widgets/output",
          "model_name": "OutputModel",
          "model_module_version": "1.0.0",
          "state": {
            "_dom_classes": [],
            "_model_module": "@jupyter-widgets/output",
            "_model_module_version": "1.0.0",
            "_model_name": "OutputModel",
            "_view_count": null,
            "_view_module": "@jupyter-widgets/output",
            "_view_module_version": "1.0.0",
            "_view_name": "OutputView",
            "layout": "IPY_MODEL_f58ebed39764487bbd5b89772b41f13f",
            "msg_id": "",
            "outputs": [
              {
                "output_type": "display_data",
                "data": {
                  "text/plain": "<PIL.Image.Image image mode=RGB size=128x96>",
                  "image/png": "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\n"
                },
                "metadata": {}
              }
            ]
          }
        },
        "c0cd0e7565414c6e9b17a382ee148010": {
          "model_module": "@jupyter-widgets/controls",
          "model_name": "LabelModel",
          "model_module_version": "1.5.0",
          "state": {
            "_dom_classes": [],
            "_model_module": "@jupyter-widgets/controls",
            "_model_module_version": "1.5.0",
            "_model_name": "LabelModel",
            "_view_count": null,
            "_view_module": "@jupyter-widgets/controls",
            "_view_module_version": "1.5.0",
            "_view_name": "LabelView",
            "description": "",
            "description_tooltip": null,
            "layout": "IPY_MODEL_26aaf9cf6c1c42fba289ce16358a89a6",
            "placeholder": "​",
            "style": "IPY_MODEL_8b66c495850943b7984be30cbc13abe1",
            "value": "Prediction: parmesan; Probability: 0.5373"
          }
        },
        "774388065f4247ec8cc8bcc189b252bd": {
          "model_module": "@jupyter-widgets/base",
          "model_name": "LayoutModel",
          "model_module_version": "1.2.0",
          "state": {
            "_model_module": "@jupyter-widgets/base",
            "_model_module_version": "1.2.0",
            "_model_name": "LayoutModel",
            "_view_count": null,
            "_view_module": "@jupyter-widgets/base",
            "_view_module_version": "1.2.0",
            "_view_name": "LayoutView",
            "align_content": null,
            "align_items": null,
            "align_self": null,
            "border": null,
            "bottom": null,
            "display": null,
            "flex": null,
            "flex_flow": null,
            "grid_area": null,
            "grid_auto_columns": null,
            "grid_auto_flow": null,
            "grid_auto_rows": null,
            "grid_column": null,
            "grid_gap": null,
            "grid_row": null,
            "grid_template_areas": null,
            "grid_template_columns": null,
            "grid_template_rows": null,
            "height": null,
            "justify_content": null,
            "justify_items": null,
            "left": null,
            "margin": null,
            "max_height": null,
            "max_width": null,
            "min_height": null,
            "min_width": null,
            "object_fit": null,
            "object_position": null,
            "order": null,
            "overflow": null,
            "overflow_x": null,
            "overflow_y": null,
            "padding": null,
            "right": null,
            "top": null,
            "visibility": null,
            "width": null
          }
        },
        "f707bba11cb94414a2ba78dee283e6b3": {
          "model_module": "@jupyter-widgets/base",
          "model_name": "LayoutModel",
          "model_module_version": "1.2.0",
          "state": {
            "_model_module": "@jupyter-widgets/base",
            "_model_module_version": "1.2.0",
            "_model_name": "LayoutModel",
            "_view_count": null,
            "_view_module": "@jupyter-widgets/base",
            "_view_module_version": "1.2.0",
            "_view_name": "LayoutView",
            "align_content": null,
            "align_items": null,
            "align_self": null,
            "border": null,
            "bottom": null,
            "display": null,
            "flex": null,
            "flex_flow": null,
            "grid_area": null,
            "grid_auto_columns": null,
            "grid_auto_flow": null,
            "grid_auto_rows": null,
            "grid_column": null,
            "grid_gap": null,
            "grid_row": null,
            "grid_template_areas": null,
            "grid_template_columns": null,
            "grid_template_rows": null,
            "height": null,
            "justify_content": null,
            "justify_items": null,
            "left": null,
            "margin": null,
            "max_height": null,
            "max_width": null,
            "min_height": null,
            "min_width": null,
            "object_fit": null,
            "object_position": null,
            "order": null,
            "overflow": null,
            "overflow_x": null,
            "overflow_y": null,
            "padding": null,
            "right": null,
            "top": null,
            "visibility": null,
            "width": null
          }
        },
        "d111d6134c984678be9f57021f5eb7bc": {
          "model_module": "@jupyter-widgets/controls",
          "model_name": "DescriptionStyleModel",
          "model_module_version": "1.5.0",
          "state": {
            "_model_module": "@jupyter-widgets/controls",
            "_model_module_version": "1.5.0",
            "_model_name": "DescriptionStyleModel",
            "_view_count": null,
            "_view_module": "@jupyter-widgets/base",
            "_view_module_version": "1.2.0",
            "_view_name": "StyleView",
            "description_width": ""
          }
        },
        "b44251fad63140dca735e25b6dae9f95": {
          "model_module": "@jupyter-widgets/base",
          "model_name": "LayoutModel",
          "model_module_version": "1.2.0",
          "state": {
            "_model_module": "@jupyter-widgets/base",
            "_model_module_version": "1.2.0",
            "_model_name": "LayoutModel",
            "_view_count": null,
            "_view_module": "@jupyter-widgets/base",
            "_view_module_version": "1.2.0",
            "_view_name": "LayoutView",
            "align_content": null,
            "align_items": null,
            "align_self": null,
            "border": null,
            "bottom": null,
            "display": null,
            "flex": null,
            "flex_flow": null,
            "grid_area": null,
            "grid_auto_columns": null,
            "grid_auto_flow": null,
            "grid_auto_rows": null,
            "grid_column": null,
            "grid_gap": null,
            "grid_row": null,
            "grid_template_areas": null,
            "grid_template_columns": null,
            "grid_template_rows": null,
            "height": null,
            "justify_content": null,
            "justify_items": null,
            "left": null,
            "margin": null,
            "max_height": null,
            "max_width": null,
            "min_height": null,
            "min_width": null,
            "object_fit": null,
            "object_position": null,
            "order": null,
            "overflow": null,
            "overflow_x": null,
            "overflow_y": null,
            "padding": null,
            "right": null,
            "top": null,
            "visibility": null,
            "width": null
          }
        },
        "952c69b4729642d4a9df077bdff21bbe": {
          "model_module": "@jupyter-widgets/controls",
          "model_name": "ButtonStyleModel",
          "model_module_version": "1.5.0",
          "state": {
            "_model_module": "@jupyter-widgets/controls",
            "_model_module_version": "1.5.0",
            "_model_name": "ButtonStyleModel",
            "_view_count": null,
            "_view_module": "@jupyter-widgets/base",
            "_view_module_version": "1.2.0",
            "_view_name": "StyleView",
            "button_color": null,
            "font_weight": ""
          }
        },
        "3fd207b8e9e24f8a8ad454859d886247": {
          "model_module": "@jupyter-widgets/base",
          "model_name": "LayoutModel",
          "model_module_version": "1.2.0",
          "state": {
            "_model_module": "@jupyter-widgets/base",
            "_model_module_version": "1.2.0",
            "_model_name": "LayoutModel",
            "_view_count": null,
            "_view_module": "@jupyter-widgets/base",
            "_view_module_version": "1.2.0",
            "_view_name": "LayoutView",
            "align_content": null,
            "align_items": null,
            "align_self": null,
            "border": null,
            "bottom": null,
            "display": null,
            "flex": null,
            "flex_flow": null,
            "grid_area": null,
            "grid_auto_columns": null,
            "grid_auto_flow": null,
            "grid_auto_rows": null,
            "grid_column": null,
            "grid_gap": null,
            "grid_row": null,
            "grid_template_areas": null,
            "grid_template_columns": null,
            "grid_template_rows": null,
            "height": null,
            "justify_content": null,
            "justify_items": null,
            "left": null,
            "margin": null,
            "max_height": null,
            "max_width": null,
            "min_height": null,
            "min_width": null,
            "object_fit": null,
            "object_position": null,
            "order": null,
            "overflow": null,
            "overflow_x": null,
            "overflow_y": null,
            "padding": null,
            "right": null,
            "top": null,
            "visibility": null,
            "width": null
          }
        },
        "e5645e1a27874a6eb258c57453a7bc5f": {
          "model_module": "@jupyter-widgets/controls",
          "model_name": "ButtonStyleModel",
          "model_module_version": "1.5.0",
          "state": {
            "_model_module": "@jupyter-widgets/controls",
            "_model_module_version": "1.5.0",
            "_model_name": "ButtonStyleModel",
            "_view_count": null,
            "_view_module": "@jupyter-widgets/base",
            "_view_module_version": "1.2.0",
            "_view_name": "StyleView",
            "button_color": null,
            "font_weight": ""
          }
        },
        "26aaf9cf6c1c42fba289ce16358a89a6": {
          "model_module": "@jupyter-widgets/base",
          "model_name": "LayoutModel",
          "model_module_version": "1.2.0",
          "state": {
            "_model_module": "@jupyter-widgets/base",
            "_model_module_version": "1.2.0",
            "_model_name": "LayoutModel",
            "_view_count": null,
            "_view_module": "@jupyter-widgets/base",
            "_view_module_version": "1.2.0",
            "_view_name": "LayoutView",
            "align_content": null,
            "align_items": null,
            "align_self": null,
            "border": null,
            "bottom": null,
            "display": null,
            "flex": null,
            "flex_flow": null,
            "grid_area": null,
            "grid_auto_columns": null,
            "grid_auto_flow": null,
            "grid_auto_rows": null,
            "grid_column": null,
            "grid_gap": null,
            "grid_row": null,
            "grid_template_areas": null,
            "grid_template_columns": null,
            "grid_template_rows": null,
            "height": null,
            "justify_content": null,
            "justify_items": null,
            "left": null,
            "margin": null,
            "max_height": null,
            "max_width": null,
            "min_height": null,
            "min_width": null,
            "object_fit": null,
            "object_position": null,
            "order": null,
            "overflow": null,
            "overflow_x": null,
            "overflow_y": null,
            "padding": null,
            "right": null,
            "top": null,
            "visibility": null,
            "width": null
          }
        },
        "8b66c495850943b7984be30cbc13abe1": {
          "model_module": "@jupyter-widgets/controls",
          "model_name": "DescriptionStyleModel",
          "model_module_version": "1.5.0",
          "state": {
            "_model_module": "@jupyter-widgets/controls",
            "_model_module_version": "1.5.0",
            "_model_name": "DescriptionStyleModel",
            "_view_count": null,
            "_view_module": "@jupyter-widgets/base",
            "_view_module_version": "1.2.0",
            "_view_name": "StyleView",
            "description_width": ""
          }
        },
        "f58ebed39764487bbd5b89772b41f13f": {
          "model_module": "@jupyter-widgets/base",
          "model_name": "LayoutModel",
          "model_module_version": "1.2.0",
          "state": {
            "_model_module": "@jupyter-widgets/base",
            "_model_module_version": "1.2.0",
            "_model_name": "LayoutModel",
            "_view_count": null,
            "_view_module": "@jupyter-widgets/base",
            "_view_module_version": "1.2.0",
            "_view_name": "LayoutView",
            "align_content": null,
            "align_items": null,
            "align_self": null,
            "border": null,
            "bottom": null,
            "display": null,
            "flex": null,
            "flex_flow": null,
            "grid_area": null,
            "grid_auto_columns": null,
            "grid_auto_flow": null,
            "grid_auto_rows": null,
            "grid_column": null,
            "grid_gap": null,
            "grid_row": null,
            "grid_template_areas": null,
            "grid_template_columns": null,
            "grid_template_rows": null,
            "height": null,
            "justify_content": null,
            "justify_items": null,
            "left": null,
            "margin": null,
            "max_height": null,
            "max_width": null,
            "min_height": null,
            "min_width": null,
            "object_fit": null,
            "object_position": null,
            "order": null,
            "overflow": null,
            "overflow_x": null,
            "overflow_y": null,
            "padding": null,
            "right": null,
            "top": null,
            "visibility": null,
            "width": null
          }
        }
      }
    }
  },
  "cells": [
    {
      "cell_type": "code",
      "execution_count": 2,
      "metadata": {
        "colab": {
          "base_uri": "https://localhost:8080/",
          "height": 1000
        },
        "id": "LdEG7x1NREdD",
        "outputId": "5b75ef19-5694-4264-ccbe-f30573035eb8"
      },
      "outputs": [
        {
          "output_type": "stream",
          "name": "stdout",
          "text": [
            "Looking in indexes: https://pypi.org/simple, https://us-python.pkg.dev/colab-wheels/public/simple/\n",
            "Collecting voila\n",
            "  Downloading voila-0.3.6-py3-none-any.whl (1.7 MB)\n",
            "\u001b[K     |████████████████████████████████| 1.7 MB 8.4 MB/s \n",
            "\u001b[?25hRequirement already satisfied: jupyter-client<8,>=6.1.3 in /usr/local/lib/python3.7/dist-packages (from voila) (6.1.12)\n",
            "Collecting jupyter-server<2.0.0,>=1.18\n",
            "  Downloading jupyter_server-1.19.1-py3-none-any.whl (346 kB)\n",
            "\u001b[K     |████████████████████████████████| 346 kB 67.3 MB/s \n",
            "\u001b[?25hRequirement already satisfied: traitlets<6,>=5.0.3 in /usr/local/lib/python3.7/dist-packages (from voila) (5.1.1)\n",
            "Collecting nbconvert<7,>=6.4.5\n",
            "  Downloading nbconvert-6.5.4-py3-none-any.whl (563 kB)\n",
            "\u001b[K     |████████████████████████████████| 563 kB 64.8 MB/s \n",
            "\u001b[?25hRequirement already satisfied: jupyter-core>=4.11.0 in /usr/local/lib/python3.7/dist-packages (from voila) (4.11.1)\n",
            "Collecting websockets>=9.0\n",
            "  Downloading websockets-10.3-cp37-cp37m-manylinux_2_5_x86_64.manylinux1_x86_64.manylinux_2_12_x86_64.manylinux2010_x86_64.whl (112 kB)\n",
            "\u001b[K     |████████████████████████████████| 112 kB 70.5 MB/s \n",
            "\u001b[?25hCollecting jupyterlab-server<3,>=2.3.0\n",
            "  Downloading jupyterlab_server-2.15.2-py3-none-any.whl (54 kB)\n",
            "\u001b[K     |████████████████████████████████| 54 kB 2.4 MB/s \n",
            "\u001b[?25hCollecting nbclient<0.6,>=0.4.0\n",
            "  Downloading nbclient-0.5.13-py3-none-any.whl (70 kB)\n",
            "\u001b[K     |████████████████████████████████| 70 kB 8.9 MB/s \n",
            "\u001b[?25hRequirement already satisfied: tornado>=4.1 in /usr/local/lib/python3.7/dist-packages (from jupyter-client<8,>=6.1.3->voila) (5.1.1)\n",
            "Requirement already satisfied: pyzmq>=13 in /usr/local/lib/python3.7/dist-packages (from jupyter-client<8,>=6.1.3->voila) (23.2.1)\n",
            "Requirement already satisfied: python-dateutil>=2.1 in /usr/local/lib/python3.7/dist-packages (from jupyter-client<8,>=6.1.3->voila) (2.8.2)\n",
            "Requirement already satisfied: nbformat>=5.2.0 in /usr/local/lib/python3.7/dist-packages (from jupyter-server<2.0.0,>=1.18->voila) (5.6.1)\n",
            "Requirement already satisfied: Send2Trash in /usr/local/lib/python3.7/dist-packages (from jupyter-server<2.0.0,>=1.18->voila) (1.8.0)\n",
            "Requirement already satisfied: terminado>=0.8.3 in /usr/local/lib/python3.7/dist-packages (from jupyter-server<2.0.0,>=1.18->voila) (0.13.3)\n",
            "Collecting tornado>=4.1\n",
            "  Downloading tornado-6.2-cp37-abi3-manylinux_2_5_x86_64.manylinux1_x86_64.manylinux_2_17_x86_64.manylinux2014_x86_64.whl (423 kB)\n",
            "\u001b[K     |████████████████████████████████| 423 kB 79.8 MB/s \n",
            "\u001b[?25hCollecting anyio<4,>=3.1.0\n",
            "  Downloading anyio-3.6.1-py3-none-any.whl (80 kB)\n",
            "\u001b[K     |████████████████████████████████| 80 kB 9.4 MB/s \n",
            "\u001b[?25hRequirement already satisfied: jinja2 in /usr/local/lib/python3.7/dist-packages (from jupyter-server<2.0.0,>=1.18->voila) (2.11.3)\n",
            "Collecting prometheus-client\n",
            "  Downloading prometheus_client-0.14.1-py3-none-any.whl (59 kB)\n",
            "\u001b[K     |████████████████████████████████| 59 kB 5.9 MB/s \n",
            "\u001b[?25hCollecting argon2-cffi\n",
            "  Downloading argon2_cffi-21.3.0-py3-none-any.whl (14 kB)\n",
            "Requirement already satisfied: packaging in /usr/local/lib/python3.7/dist-packages (from jupyter-server<2.0.0,>=1.18->voila) (21.3)\n",
            "Collecting websocket-client\n",
            "  Downloading websocket_client-1.4.1-py3-none-any.whl (55 kB)\n",
            "\u001b[K     |████████████████████████████████| 55 kB 3.8 MB/s \n",
            "\u001b[?25hCollecting sniffio>=1.1\n",
            "  Downloading sniffio-1.3.0-py3-none-any.whl (10 kB)\n",
            "Requirement already satisfied: idna>=2.8 in /usr/local/lib/python3.7/dist-packages (from anyio<4,>=3.1.0->jupyter-server<2.0.0,>=1.18->voila) (2.10)\n",
            "Requirement already satisfied: typing-extensions in /usr/local/lib/python3.7/dist-packages (from anyio<4,>=3.1.0->jupyter-server<2.0.0,>=1.18->voila) (4.1.1)\n",
            "Requirement already satisfied: importlib-metadata>=3.6 in /usr/local/lib/python3.7/dist-packages (from jupyterlab-server<3,>=2.3.0->voila) (5.0.0)\n",
            "Requirement already satisfied: jsonschema>=3.0.1 in /usr/local/lib/python3.7/dist-packages (from jupyterlab-server<3,>=2.3.0->voila) (4.3.3)\n",
            "Requirement already satisfied: requests in /usr/local/lib/python3.7/dist-packages (from jupyterlab-server<3,>=2.3.0->voila) (2.23.0)\n",
            "Collecting jinja2\n",
            "  Downloading Jinja2-3.1.2-py3-none-any.whl (133 kB)\n",
            "\u001b[K     |████████████████████████████████| 133 kB 77.6 MB/s \n",
            "\u001b[?25hRequirement already satisfied: babel in /usr/local/lib/python3.7/dist-packages (from jupyterlab-server<3,>=2.3.0->voila) (2.10.3)\n",
            "Collecting json5\n",
            "  Downloading json5-0.9.10-py2.py3-none-any.whl (19 kB)\n",
            "Requirement already satisfied: zipp>=0.5 in /usr/local/lib/python3.7/dist-packages (from importlib-metadata>=3.6->jupyterlab-server<3,>=2.3.0->voila) (3.8.1)\n",
            "Requirement already satisfied: MarkupSafe>=2.0 in /usr/local/lib/python3.7/dist-packages (from jinja2->jupyter-server<2.0.0,>=1.18->voila) (2.0.1)\n",
            "Requirement already satisfied: importlib-resources>=1.4.0 in /usr/local/lib/python3.7/dist-packages (from jsonschema>=3.0.1->jupyterlab-server<3,>=2.3.0->voila) (5.9.0)\n",
            "Requirement already satisfied: attrs>=17.4.0 in /usr/local/lib/python3.7/dist-packages (from jsonschema>=3.0.1->jupyterlab-server<3,>=2.3.0->voila) (22.1.0)\n",
            "Requirement already satisfied: pyrsistent!=0.17.0,!=0.17.1,!=0.17.2,>=0.14.0 in /usr/local/lib/python3.7/dist-packages (from jsonschema>=3.0.1->jupyterlab-server<3,>=2.3.0->voila) (0.18.1)\n",
            "Collecting nest-asyncio\n",
            "  Downloading nest_asyncio-1.5.6-py3-none-any.whl (5.2 kB)\n",
            "Requirement already satisfied: pygments>=2.4.1 in /usr/local/lib/python3.7/dist-packages (from nbconvert<7,>=6.4.5->voila) (2.6.1)\n",
            "Requirement already satisfied: defusedxml in /usr/local/lib/python3.7/dist-packages (from nbconvert<7,>=6.4.5->voila) (0.7.1)\n",
            "Requirement already satisfied: bleach in /usr/local/lib/python3.7/dist-packages (from nbconvert<7,>=6.4.5->voila) (5.0.1)\n",
            "Collecting jupyterlab-pygments\n",
            "  Downloading jupyterlab_pygments-0.2.2-py2.py3-none-any.whl (21 kB)\n",
            "Requirement already satisfied: lxml in /usr/local/lib/python3.7/dist-packages (from nbconvert<7,>=6.4.5->voila) (4.9.1)\n",
            "Requirement already satisfied: beautifulsoup4 in /usr/local/lib/python3.7/dist-packages (from nbconvert<7,>=6.4.5->voila) (4.6.3)\n",
            "Requirement already satisfied: entrypoints>=0.2.2 in /usr/local/lib/python3.7/dist-packages (from nbconvert<7,>=6.4.5->voila) (0.4)\n",
            "Requirement already satisfied: pandocfilters>=1.4.1 in /usr/local/lib/python3.7/dist-packages (from nbconvert<7,>=6.4.5->voila) (1.5.0)\n",
            "Requirement already satisfied: mistune<2,>=0.8.1 in /usr/local/lib/python3.7/dist-packages (from nbconvert<7,>=6.4.5->voila) (0.8.4)\n",
            "Collecting tinycss2\n",
            "  Downloading tinycss2-1.1.1-py3-none-any.whl (21 kB)\n",
            "Requirement already satisfied: fastjsonschema in /usr/local/lib/python3.7/dist-packages (from nbformat>=5.2.0->jupyter-server<2.0.0,>=1.18->voila) (2.16.2)\n",
            "Requirement already satisfied: six>=1.5 in /usr/local/lib/python3.7/dist-packages (from python-dateutil>=2.1->jupyter-client<8,>=6.1.3->voila) (1.15.0)\n",
            "Requirement already satisfied: ptyprocess in /usr/local/lib/python3.7/dist-packages (from terminado>=0.8.3->jupyter-server<2.0.0,>=1.18->voila) (0.7.0)\n",
            "Collecting argon2-cffi-bindings\n",
            "  Downloading argon2_cffi_bindings-21.2.0-cp36-abi3-manylinux_2_17_x86_64.manylinux2014_x86_64.whl (86 kB)\n",
            "\u001b[K     |████████████████████████████████| 86 kB 5.0 MB/s \n",
            "\u001b[?25hRequirement already satisfied: cffi>=1.0.1 in /usr/local/lib/python3.7/dist-packages (from argon2-cffi-bindings->argon2-cffi->jupyter-server<2.0.0,>=1.18->voila) (1.15.1)\n",
            "Requirement already satisfied: pycparser in /usr/local/lib/python3.7/dist-packages (from cffi>=1.0.1->argon2-cffi-bindings->argon2-cffi->jupyter-server<2.0.0,>=1.18->voila) (2.21)\n",
            "Requirement already satisfied: pytz>=2015.7 in /usr/local/lib/python3.7/dist-packages (from babel->jupyterlab-server<3,>=2.3.0->voila) (2022.4)\n",
            "Requirement already satisfied: webencodings in /usr/local/lib/python3.7/dist-packages (from bleach->nbconvert<7,>=6.4.5->voila) (0.5.1)\n",
            "Requirement already satisfied: pyparsing!=3.0.5,>=2.0.2 in /usr/local/lib/python3.7/dist-packages (from packaging->jupyter-server<2.0.0,>=1.18->voila) (3.0.9)\n",
            "Requirement already satisfied: chardet<4,>=3.0.2 in /usr/local/lib/python3.7/dist-packages (from requests->jupyterlab-server<3,>=2.3.0->voila) (3.0.4)\n",
            "Requirement already satisfied: urllib3!=1.25.0,!=1.25.1,<1.26,>=1.21.1 in /usr/local/lib/python3.7/dist-packages (from requests->jupyterlab-server<3,>=2.3.0->voila) (1.24.3)\n",
            "Requirement already satisfied: certifi>=2017.4.17 in /usr/local/lib/python3.7/dist-packages (from requests->jupyterlab-server<3,>=2.3.0->voila) (2022.9.24)\n",
            "Installing collected packages: tornado, nest-asyncio, tinycss2, sniffio, nbclient, jupyterlab-pygments, jinja2, argon2-cffi-bindings, websocket-client, prometheus-client, nbconvert, argon2-cffi, anyio, jupyter-server, json5, websockets, jupyterlab-server, voila\n",
            "  Attempting uninstall: tornado\n",
            "    Found existing installation: tornado 5.1.1\n",
            "    Uninstalling tornado-5.1.1:\n",
            "      Successfully uninstalled tornado-5.1.1\n",
            "  Attempting uninstall: jinja2\n",
            "    Found existing installation: Jinja2 2.11.3\n",
            "    Uninstalling Jinja2-2.11.3:\n",
            "      Successfully uninstalled Jinja2-2.11.3\n",
            "  Attempting uninstall: nbconvert\n",
            "    Found existing installation: nbconvert 5.6.1\n",
            "    Uninstalling nbconvert-5.6.1:\n",
            "      Successfully uninstalled nbconvert-5.6.1\n",
            "\u001b[31mERROR: pip's dependency resolver does not currently take into account all the packages that are installed. This behaviour is the source of the following dependency conflicts.\n",
            "google-colab 1.0.0 requires tornado~=5.1.0, but you have tornado 6.2 which is incompatible.\n",
            "flask 1.1.4 requires Jinja2<3.0,>=2.10.1, but you have jinja2 3.1.2 which is incompatible.\u001b[0m\n",
            "Successfully installed anyio-3.6.1 argon2-cffi-21.3.0 argon2-cffi-bindings-21.2.0 jinja2-3.1.2 json5-0.9.10 jupyter-server-1.19.1 jupyterlab-pygments-0.2.2 jupyterlab-server-2.15.2 nbclient-0.5.13 nbconvert-6.5.4 nest-asyncio-1.5.6 prometheus-client-0.14.1 sniffio-1.3.0 tinycss2-1.1.1 tornado-6.2 voila-0.3.6 websocket-client-1.4.1 websockets-10.3\n"
          ]
        },
        {
          "output_type": "display_data",
          "data": {
            "application/vnd.colab-display-data+json": {
              "pip_warning": {
                "packages": [
                  "tornado"
                ]
              }
            }
          },
          "metadata": {}
        },
        {
          "output_type": "stream",
          "name": "stdout",
          "text": [
            "Enabling: voila\n",
            "- Writing config: /usr/etc/jupyter\n",
            "    - Validating...\n",
            "      voila  \u001b[32mOK\u001b[0m\n"
          ]
        }
      ],
      "source": [
        "!pip install voila\n",
        "!jupyter serverextension enable --sys-prefix voila "
      ]
    },
    {
      "cell_type": "code",
      "source": [
        "! [ -e /content ] && pip install -Uqq fastbook\n",
        "import fastbook\n",
        "fastbook.setup_book()\n",
        "from fastbook import *\n",
        "from fastai.vision.widgets import *"
      ],
      "metadata": {
        "colab": {
          "base_uri": "https://localhost:8080/"
        },
        "id": "Me4QnzJaRtU8",
        "outputId": "188f34aa-d98e-4111-bc3b-29bde1a1a693"
      },
      "execution_count": 4,
      "outputs": [
        {
          "output_type": "stream",
          "name": "stdout",
          "text": [
            "\u001b[K     |████████████████████████████████| 719 kB 9.1 MB/s \n",
            "\u001b[K     |████████████████████████████████| 1.3 MB 58.7 MB/s \n",
            "\u001b[K     |████████████████████████████████| 4.9 MB 57.6 MB/s \n",
            "\u001b[K     |████████████████████████████████| 432 kB 66.9 MB/s \n",
            "\u001b[K     |████████████████████████████████| 115 kB 64.9 MB/s \n",
            "\u001b[K     |████████████████████████████████| 163 kB 70.8 MB/s \n",
            "\u001b[K     |████████████████████████████████| 212 kB 61.3 MB/s \n",
            "\u001b[K     |████████████████████████████████| 127 kB 67.1 MB/s \n",
            "\u001b[K     |████████████████████████████████| 6.6 MB 45.0 MB/s \n",
            "\u001b[31mERROR: pip's dependency resolver does not currently take into account all the packages that are installed. This behaviour is the source of the following dependency conflicts.\n",
            "google-colab 1.0.0 requires tornado~=5.1.0, but you have tornado 6.2 which is incompatible.\u001b[0m\n",
            "\u001b[?25hMounted at /content/gdrive\n"
          ]
        }
      ]
    },
    {
      "cell_type": "code",
      "source": [
        "path = Path()\n",
        "path.ls(file_exts='.pkl')\n",
        "learn_inf = load_learner(path/'export.pkl') # Testing if the exporting worked"
      ],
      "metadata": {
        "id": "YvnS-vgFSqBH"
      },
      "execution_count": 11,
      "outputs": []
    },
    {
      "cell_type": "code",
      "source": [
        "btn_run = widgets.Button(description='Classify')# Defining button\n"
      ],
      "metadata": {
        "id": "821BXz07SSQe"
      },
      "execution_count": 13,
      "outputs": []
    },
    {
      "cell_type": "code",
      "source": [
        "# Creation of the classifier function\n",
        "def on_click_classify(change):\n",
        "    img = PILImage.create(btn_upload.data[-1])\n",
        "    out_pl.clear_output()\n",
        "    with out_pl: display(img.to_thumb(128,128)) # Resizing it \n",
        "    pred,pred_idx,probs = learn_inf.predict(img)\n",
        "    lbl_pred.value = f'Prediction: {pred}; Probability: {probs[pred_idx]:.04f}'\n",
        "\n",
        "btn_run.on_click(on_click_classify)"
      ],
      "metadata": {
        "id": "HgTQVNyLSaEm"
      },
      "execution_count": 14,
      "outputs": []
    },
    {
      "cell_type": "code",
      "source": [
        "# Creation of the widgets\n",
        "btn_upload = widgets.FileUpload()\n",
        "out_pl = widgets.Output()\n",
        "lbl_pred = widgets.Label()\n"
      ],
      "metadata": {
        "id": "dSx5rmqjScJ-"
      },
      "execution_count": 15,
      "outputs": []
    },
    {
      "cell_type": "code",
      "source": [
        "# Making the test widget\n",
        "VBox([widgets.Label('Select a cheese'), \n",
        "      btn_upload, btn_run, out_pl, lbl_pred])"
      ],
      "metadata": {
        "colab": {
          "base_uri": "https://localhost:8080/",
          "height": 241,
          "referenced_widgets": [
            "bba038ff4e1f4a17a508087c73319789",
            "8fd2bafdd9d948ff9e1075e7cdf22bac",
            "cfcc8eec27ae4b918c0227bc73658278",
            "e4312d90b4e440208721f8f123a47664",
            "51421d225e104f6da08a8e5c05a8e389",
            "c0cd0e7565414c6e9b17a382ee148010",
            "774388065f4247ec8cc8bcc189b252bd",
            "f707bba11cb94414a2ba78dee283e6b3",
            "d111d6134c984678be9f57021f5eb7bc",
            "b44251fad63140dca735e25b6dae9f95",
            "952c69b4729642d4a9df077bdff21bbe",
            "3fd207b8e9e24f8a8ad454859d886247",
            "e5645e1a27874a6eb258c57453a7bc5f",
            "26aaf9cf6c1c42fba289ce16358a89a6",
            "8b66c495850943b7984be30cbc13abe1",
            "f58ebed39764487bbd5b89772b41f13f"
          ]
        },
        "id": "y_MDRXRPScy-",
        "outputId": "ed0dec61-0178-490a-ed9b-5b8cd2d68c17"
      },
      "execution_count": 16,
      "outputs": [
        {
          "output_type": "display_data",
          "data": {
            "text/plain": [
              "VBox(children=(Label(value='Select a cheese'), FileUpload(value={}, description='Upload'), Button(description=…"
            ],
            "application/vnd.jupyter.widget-view+json": {
              "version_major": 2,
              "version_minor": 0,
              "model_id": "bba038ff4e1f4a17a508087c73319789"
            }
          },
          "metadata": {}
        },
        {
          "output_type": "display_data",
          "data": {
            "text/plain": [
              "<IPython.core.display.HTML object>"
            ],
            "text/html": [
              "\n",
              "<style>\n",
              "    /* Turns off some styling */\n",
              "    progress {\n",
              "        /* gets rid of default border in Firefox and Opera. */\n",
              "        border: none;\n",
              "        /* Needs to be in here for Safari polyfill so background images work as expected. */\n",
              "        background-size: auto;\n",
              "    }\n",
              "    progress:not([value]), progress:not([value])::-webkit-progress-bar {\n",
              "        background: repeating-linear-gradient(45deg, #7e7e7e, #7e7e7e 10px, #5c5c5c 10px, #5c5c5c 20px);\n",
              "    }\n",
              "    .progress-bar-interrupted, .progress-bar-interrupted::-webkit-progress-bar {\n",
              "        background: #F44336;\n",
              "    }\n",
              "</style>\n"
            ]
          },
          "metadata": {}
        },
        {
          "output_type": "display_data",
          "data": {
            "text/plain": [
              "<IPython.core.display.HTML object>"
            ],
            "text/html": []
          },
          "metadata": {}
        }
      ]
    }
  ]
}